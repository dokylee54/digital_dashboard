{
 "cells": [
  {
   "cell_type": "code",
   "execution_count": 1,
   "metadata": {},
   "outputs": [],
   "source": [
    "import pandas as pd"
   ]
  },
  {
   "cell_type": "code",
   "execution_count": 133,
   "metadata": {},
   "outputs": [],
   "source": [
    "data = pd.read_excel('q_data.xlsx')"
   ]
  },
  {
   "cell_type": "code",
   "execution_count": 134,
   "metadata": {},
   "outputs": [
    {
     "data": {
      "text/html": [
       "<div>\n",
       "<style scoped>\n",
       "    .dataframe tbody tr th:only-of-type {\n",
       "        vertical-align: middle;\n",
       "    }\n",
       "\n",
       "    .dataframe tbody tr th {\n",
       "        vertical-align: top;\n",
       "    }\n",
       "\n",
       "    .dataframe thead th {\n",
       "        text-align: right;\n",
       "    }\n",
       "</style>\n",
       "<table border=\"1\" class=\"dataframe\">\n",
       "  <thead>\n",
       "    <tr style=\"text-align: right;\">\n",
       "      <th></th>\n",
       "      <th>팀명</th>\n",
       "      <th>이름</th>\n",
       "      <th>질문1</th>\n",
       "      <th>질문2</th>\n",
       "      <th>질문3</th>\n",
       "      <th>질문4</th>\n",
       "    </tr>\n",
       "  </thead>\n",
       "  <tbody>\n",
       "    <tr>\n",
       "      <td>0</td>\n",
       "      <td>1</td>\n",
       "      <td>이</td>\n",
       "      <td>a</td>\n",
       "      <td>asf</td>\n",
       "      <td>waf</td>\n",
       "      <td>qawf</td>\n",
       "    </tr>\n",
       "    <tr>\n",
       "      <td>1</td>\n",
       "      <td>2</td>\n",
       "      <td>도</td>\n",
       "      <td>awfa</td>\n",
       "      <td>agfe</td>\n",
       "      <td>awfwa</td>\n",
       "      <td>eafga</td>\n",
       "    </tr>\n",
       "    <tr>\n",
       "      <td>2</td>\n",
       "      <td>2</td>\n",
       "      <td>경</td>\n",
       "      <td>awfaw</td>\n",
       "      <td>awfgaw</td>\n",
       "      <td>aefa</td>\n",
       "      <td>awfaw</td>\n",
       "    </tr>\n",
       "    <tr>\n",
       "      <td>3</td>\n",
       "      <td>3</td>\n",
       "      <td>이</td>\n",
       "      <td>NaN</td>\n",
       "      <td>NaN</td>\n",
       "      <td>NaN</td>\n",
       "      <td>NaN</td>\n",
       "    </tr>\n",
       "    <tr>\n",
       "      <td>4</td>\n",
       "      <td>4</td>\n",
       "      <td>태</td>\n",
       "      <td>NaN</td>\n",
       "      <td>NaN</td>\n",
       "      <td>NaN</td>\n",
       "      <td>NaN</td>\n",
       "    </tr>\n",
       "    <tr>\n",
       "      <td>5</td>\n",
       "      <td>5</td>\n",
       "      <td>빈</td>\n",
       "      <td>NaN</td>\n",
       "      <td>NaN</td>\n",
       "      <td>NaN</td>\n",
       "      <td>NaN</td>\n",
       "    </tr>\n",
       "    <tr>\n",
       "      <td>6</td>\n",
       "      <td>4</td>\n",
       "      <td>신선</td>\n",
       "      <td>NaN</td>\n",
       "      <td>NaN</td>\n",
       "      <td>NaN</td>\n",
       "      <td>NaN</td>\n",
       "    </tr>\n",
       "    <tr>\n",
       "      <td>7</td>\n",
       "      <td>4</td>\n",
       "      <td>하하</td>\n",
       "      <td>NaN</td>\n",
       "      <td>NaN</td>\n",
       "      <td>NaN</td>\n",
       "      <td>NaN</td>\n",
       "    </tr>\n",
       "  </tbody>\n",
       "</table>\n",
       "</div>"
      ],
      "text/plain": [
       "   팀명  이름    질문1     질문2    질문3    질문4\n",
       "0   1   이      a     asf    waf   qawf\n",
       "1   2   도   awfa    agfe  awfwa  eafga\n",
       "2   2   경  awfaw  awfgaw   aefa  awfaw\n",
       "3   3   이    NaN     NaN    NaN    NaN\n",
       "4   4   태    NaN     NaN    NaN    NaN\n",
       "5   5   빈    NaN     NaN    NaN    NaN\n",
       "6   4  신선    NaN     NaN    NaN    NaN\n",
       "7   4  하하    NaN     NaN    NaN    NaN"
      ]
     },
     "execution_count": 134,
     "metadata": {},
     "output_type": "execute_result"
    }
   ],
   "source": [
    "data  # dataframe"
   ]
  },
  {
   "cell_type": "code",
   "execution_count": 135,
   "metadata": {},
   "outputs": [
    {
     "data": {
      "text/html": [
       "<div>\n",
       "<style scoped>\n",
       "    .dataframe tbody tr th:only-of-type {\n",
       "        vertical-align: middle;\n",
       "    }\n",
       "\n",
       "    .dataframe tbody tr th {\n",
       "        vertical-align: top;\n",
       "    }\n",
       "\n",
       "    .dataframe thead th {\n",
       "        text-align: right;\n",
       "    }\n",
       "</style>\n",
       "<table border=\"1\" class=\"dataframe\">\n",
       "  <thead>\n",
       "    <tr style=\"text-align: right;\">\n",
       "      <th></th>\n",
       "      <th>팀명</th>\n",
       "      <th>이름</th>\n",
       "      <th>질문1</th>\n",
       "      <th>질문2</th>\n",
       "      <th>질문3</th>\n",
       "      <th>질문4</th>\n",
       "    </tr>\n",
       "  </thead>\n",
       "  <tbody>\n",
       "    <tr>\n",
       "      <td>0</td>\n",
       "      <td>1</td>\n",
       "      <td>이</td>\n",
       "      <td>a</td>\n",
       "      <td>asf</td>\n",
       "      <td>waf</td>\n",
       "      <td>qawf</td>\n",
       "    </tr>\n",
       "    <tr>\n",
       "      <td>1</td>\n",
       "      <td>2</td>\n",
       "      <td>도</td>\n",
       "      <td>awfa</td>\n",
       "      <td>agfe</td>\n",
       "      <td>awfwa</td>\n",
       "      <td>eafga</td>\n",
       "    </tr>\n",
       "    <tr>\n",
       "      <td>2</td>\n",
       "      <td>2</td>\n",
       "      <td>경</td>\n",
       "      <td>awfaw</td>\n",
       "      <td>awfgaw</td>\n",
       "      <td>aefa</td>\n",
       "      <td>awfaw</td>\n",
       "    </tr>\n",
       "    <tr>\n",
       "      <td>3</td>\n",
       "      <td>3</td>\n",
       "      <td>이</td>\n",
       "      <td></td>\n",
       "      <td></td>\n",
       "      <td></td>\n",
       "      <td></td>\n",
       "    </tr>\n",
       "    <tr>\n",
       "      <td>4</td>\n",
       "      <td>4</td>\n",
       "      <td>태</td>\n",
       "      <td></td>\n",
       "      <td></td>\n",
       "      <td></td>\n",
       "      <td></td>\n",
       "    </tr>\n",
       "    <tr>\n",
       "      <td>5</td>\n",
       "      <td>5</td>\n",
       "      <td>빈</td>\n",
       "      <td></td>\n",
       "      <td></td>\n",
       "      <td></td>\n",
       "      <td></td>\n",
       "    </tr>\n",
       "    <tr>\n",
       "      <td>6</td>\n",
       "      <td>4</td>\n",
       "      <td>신선</td>\n",
       "      <td></td>\n",
       "      <td></td>\n",
       "      <td></td>\n",
       "      <td></td>\n",
       "    </tr>\n",
       "    <tr>\n",
       "      <td>7</td>\n",
       "      <td>4</td>\n",
       "      <td>하하</td>\n",
       "      <td></td>\n",
       "      <td></td>\n",
       "      <td></td>\n",
       "      <td></td>\n",
       "    </tr>\n",
       "  </tbody>\n",
       "</table>\n",
       "</div>"
      ],
      "text/plain": [
       "   팀명  이름    질문1     질문2    질문3    질문4\n",
       "0   1   이      a     asf    waf   qawf\n",
       "1   2   도   awfa    agfe  awfwa  eafga\n",
       "2   2   경  awfaw  awfgaw   aefa  awfaw\n",
       "3   3   이                             \n",
       "4   4   태                             \n",
       "5   5   빈                             \n",
       "6   4  신선                             \n",
       "7   4  하하                             "
      ]
     },
     "execution_count": 135,
     "metadata": {},
     "output_type": "execute_result"
    }
   ],
   "source": [
    "data = data.fillna(\"\")\n",
    "data"
   ]
  },
  {
   "cell_type": "code",
   "execution_count": 136,
   "metadata": {},
   "outputs": [],
   "source": [
    "data.to_pickle(\"./q_data.pickle\")"
   ]
  },
  {
   "cell_type": "code",
   "execution_count": 137,
   "metadata": {},
   "outputs": [],
   "source": [
    "unpickled_df = pd.read_pickle(\"./q_data.pickle\")"
   ]
  },
  {
   "cell_type": "code",
   "execution_count": 138,
   "metadata": {},
   "outputs": [
    {
     "data": {
      "text/html": [
       "<div>\n",
       "<style scoped>\n",
       "    .dataframe tbody tr th:only-of-type {\n",
       "        vertical-align: middle;\n",
       "    }\n",
       "\n",
       "    .dataframe tbody tr th {\n",
       "        vertical-align: top;\n",
       "    }\n",
       "\n",
       "    .dataframe thead th {\n",
       "        text-align: right;\n",
       "    }\n",
       "</style>\n",
       "<table border=\"1\" class=\"dataframe\">\n",
       "  <thead>\n",
       "    <tr style=\"text-align: right;\">\n",
       "      <th></th>\n",
       "      <th>팀명</th>\n",
       "      <th>이름</th>\n",
       "      <th>질문1</th>\n",
       "      <th>질문2</th>\n",
       "      <th>질문3</th>\n",
       "      <th>질문4</th>\n",
       "    </tr>\n",
       "  </thead>\n",
       "  <tbody>\n",
       "    <tr>\n",
       "      <td>0</td>\n",
       "      <td>1</td>\n",
       "      <td>이</td>\n",
       "      <td>a</td>\n",
       "      <td>asf</td>\n",
       "      <td>waf</td>\n",
       "      <td>qawf</td>\n",
       "    </tr>\n",
       "    <tr>\n",
       "      <td>1</td>\n",
       "      <td>2</td>\n",
       "      <td>도</td>\n",
       "      <td>awfa</td>\n",
       "      <td>agfe</td>\n",
       "      <td>awfwa</td>\n",
       "      <td>eafga</td>\n",
       "    </tr>\n",
       "    <tr>\n",
       "      <td>2</td>\n",
       "      <td>2</td>\n",
       "      <td>경</td>\n",
       "      <td>awfaw</td>\n",
       "      <td>awfgaw</td>\n",
       "      <td>aefa</td>\n",
       "      <td>awfaw</td>\n",
       "    </tr>\n",
       "    <tr>\n",
       "      <td>3</td>\n",
       "      <td>3</td>\n",
       "      <td>이</td>\n",
       "      <td></td>\n",
       "      <td></td>\n",
       "      <td></td>\n",
       "      <td></td>\n",
       "    </tr>\n",
       "    <tr>\n",
       "      <td>4</td>\n",
       "      <td>4</td>\n",
       "      <td>태</td>\n",
       "      <td></td>\n",
       "      <td></td>\n",
       "      <td></td>\n",
       "      <td></td>\n",
       "    </tr>\n",
       "    <tr>\n",
       "      <td>5</td>\n",
       "      <td>5</td>\n",
       "      <td>빈</td>\n",
       "      <td></td>\n",
       "      <td></td>\n",
       "      <td></td>\n",
       "      <td></td>\n",
       "    </tr>\n",
       "    <tr>\n",
       "      <td>6</td>\n",
       "      <td>4</td>\n",
       "      <td>신선</td>\n",
       "      <td></td>\n",
       "      <td></td>\n",
       "      <td></td>\n",
       "      <td></td>\n",
       "    </tr>\n",
       "    <tr>\n",
       "      <td>7</td>\n",
       "      <td>4</td>\n",
       "      <td>하하</td>\n",
       "      <td></td>\n",
       "      <td></td>\n",
       "      <td></td>\n",
       "      <td></td>\n",
       "    </tr>\n",
       "  </tbody>\n",
       "</table>\n",
       "</div>"
      ],
      "text/plain": [
       "   팀명  이름    질문1     질문2    질문3    질문4\n",
       "0   1   이      a     asf    waf   qawf\n",
       "1   2   도   awfa    agfe  awfwa  eafga\n",
       "2   2   경  awfaw  awfgaw   aefa  awfaw\n",
       "3   3   이                             \n",
       "4   4   태                             \n",
       "5   5   빈                             \n",
       "6   4  신선                             \n",
       "7   4  하하                             "
      ]
     },
     "execution_count": 138,
     "metadata": {},
     "output_type": "execute_result"
    }
   ],
   "source": [
    "unpickled_df"
   ]
  },
  {
   "cell_type": "code",
   "execution_count": 124,
   "metadata": {},
   "outputs": [
    {
     "data": {
      "text/plain": [
       "{'팀명': 2,\n",
       " '이름': '도',\n",
       " '질문1': 'awfa',\n",
       " '질문2': 'agfe',\n",
       " '질문3': 'awfwa',\n",
       " '질문4': 'eafga'}"
      ]
     },
     "execution_count": 124,
     "metadata": {},
     "output_type": "execute_result"
    }
   ],
   "source": [
    "selected_row = unpickled_df.loc[unpickled_df['이름'] == '도'].to_dict('records')[0]\n",
    "selected_row"
   ]
  },
  {
   "cell_type": "code",
   "execution_count": 125,
   "metadata": {},
   "outputs": [
    {
     "data": {
      "text/plain": [
       "2"
      ]
     },
     "execution_count": 125,
     "metadata": {},
     "output_type": "execute_result"
    }
   ],
   "source": [
    "selected_row['팀명'] # series"
   ]
  },
  {
   "cell_type": "code",
   "execution_count": null,
   "metadata": {},
   "outputs": [],
   "source": []
  },
  {
   "cell_type": "code",
   "execution_count": 126,
   "metadata": {},
   "outputs": [],
   "source": [
    "# append"
   ]
  },
  {
   "cell_type": "code",
   "execution_count": 69,
   "metadata": {},
   "outputs": [
    {
     "data": {
      "text/html": [
       "<div>\n",
       "<style scoped>\n",
       "    .dataframe tbody tr th:only-of-type {\n",
       "        vertical-align: middle;\n",
       "    }\n",
       "\n",
       "    .dataframe tbody tr th {\n",
       "        vertical-align: top;\n",
       "    }\n",
       "\n",
       "    .dataframe thead th {\n",
       "        text-align: right;\n",
       "    }\n",
       "</style>\n",
       "<table border=\"1\" class=\"dataframe\">\n",
       "  <thead>\n",
       "    <tr style=\"text-align: right;\">\n",
       "      <th></th>\n",
       "      <th>팀명</th>\n",
       "      <th>이름</th>\n",
       "      <th>질문1</th>\n",
       "      <th>질문2</th>\n",
       "      <th>질문3</th>\n",
       "      <th>질문4</th>\n",
       "    </tr>\n",
       "  </thead>\n",
       "  <tbody>\n",
       "    <tr>\n",
       "      <td>0</td>\n",
       "      <td>1</td>\n",
       "      <td>이</td>\n",
       "      <td>a</td>\n",
       "      <td>asf</td>\n",
       "      <td>waf</td>\n",
       "      <td>qawf</td>\n",
       "    </tr>\n",
       "    <tr>\n",
       "      <td>1</td>\n",
       "      <td>2</td>\n",
       "      <td>도</td>\n",
       "      <td>awfa</td>\n",
       "      <td>agfe</td>\n",
       "      <td>awfwa</td>\n",
       "      <td>eafga</td>\n",
       "    </tr>\n",
       "    <tr>\n",
       "      <td>2</td>\n",
       "      <td>2</td>\n",
       "      <td>경</td>\n",
       "      <td>awfaw</td>\n",
       "      <td>awfgaw</td>\n",
       "      <td>aefa</td>\n",
       "      <td>awfaw</td>\n",
       "    </tr>\n",
       "    <tr>\n",
       "      <td>3</td>\n",
       "      <td>3</td>\n",
       "      <td>이</td>\n",
       "      <td></td>\n",
       "      <td></td>\n",
       "      <td></td>\n",
       "      <td></td>\n",
       "    </tr>\n",
       "    <tr>\n",
       "      <td>4</td>\n",
       "      <td>4</td>\n",
       "      <td>태</td>\n",
       "      <td></td>\n",
       "      <td></td>\n",
       "      <td></td>\n",
       "      <td></td>\n",
       "    </tr>\n",
       "    <tr>\n",
       "      <td>5</td>\n",
       "      <td>5</td>\n",
       "      <td>빈</td>\n",
       "      <td></td>\n",
       "      <td></td>\n",
       "      <td></td>\n",
       "      <td></td>\n",
       "    </tr>\n",
       "  </tbody>\n",
       "</table>\n",
       "</div>"
      ],
      "text/plain": [
       "   팀명 이름    질문1     질문2    질문3    질문4\n",
       "0   1  이      a     asf    waf   qawf\n",
       "1   2  도   awfa    agfe  awfwa  eafga\n",
       "2   2  경  awfaw  awfgaw   aefa  awfaw\n",
       "3   3  이                             \n",
       "4   4  태                             \n",
       "5   5  빈                             "
      ]
     },
     "execution_count": 69,
     "metadata": {},
     "output_type": "execute_result"
    }
   ],
   "source": [
    "unpickled_df"
   ]
  },
  {
   "cell_type": "code",
   "execution_count": 127,
   "metadata": {},
   "outputs": [
    {
     "data": {
      "text/plain": [
       "7"
      ]
     },
     "execution_count": 127,
     "metadata": {},
     "output_type": "execute_result"
    }
   ],
   "source": [
    "len(unpickled_df)  # 몇개의 응답이 있는지"
   ]
  },
  {
   "cell_type": "code",
   "execution_count": 83,
   "metadata": {},
   "outputs": [
    {
     "data": {
      "text/html": [
       "<div>\n",
       "<style scoped>\n",
       "    .dataframe tbody tr th:only-of-type {\n",
       "        vertical-align: middle;\n",
       "    }\n",
       "\n",
       "    .dataframe tbody tr th {\n",
       "        vertical-align: top;\n",
       "    }\n",
       "\n",
       "    .dataframe thead th {\n",
       "        text-align: right;\n",
       "    }\n",
       "</style>\n",
       "<table border=\"1\" class=\"dataframe\">\n",
       "  <thead>\n",
       "    <tr style=\"text-align: right;\">\n",
       "      <th></th>\n",
       "      <th>팀명</th>\n",
       "      <th>이름</th>\n",
       "      <th>질문1</th>\n",
       "      <th>질문2</th>\n",
       "      <th>질문3</th>\n",
       "      <th>질문4</th>\n",
       "    </tr>\n",
       "  </thead>\n",
       "  <tbody>\n",
       "    <tr>\n",
       "      <td>0</td>\n",
       "      <td>1</td>\n",
       "      <td>이</td>\n",
       "      <td>a</td>\n",
       "      <td>asf</td>\n",
       "      <td>waf</td>\n",
       "      <td>qawf</td>\n",
       "    </tr>\n",
       "    <tr>\n",
       "      <td>1</td>\n",
       "      <td>2</td>\n",
       "      <td>도</td>\n",
       "      <td>awfa</td>\n",
       "      <td>agfe</td>\n",
       "      <td>awfwa</td>\n",
       "      <td>eafga</td>\n",
       "    </tr>\n",
       "    <tr>\n",
       "      <td>2</td>\n",
       "      <td>2</td>\n",
       "      <td>경</td>\n",
       "      <td>awfaw</td>\n",
       "      <td>awfgaw</td>\n",
       "      <td>aefa</td>\n",
       "      <td>awfaw</td>\n",
       "    </tr>\n",
       "    <tr>\n",
       "      <td>3</td>\n",
       "      <td>3</td>\n",
       "      <td>이</td>\n",
       "      <td></td>\n",
       "      <td></td>\n",
       "      <td></td>\n",
       "      <td></td>\n",
       "    </tr>\n",
       "    <tr>\n",
       "      <td>4</td>\n",
       "      <td>4</td>\n",
       "      <td>태</td>\n",
       "      <td>안녕</td>\n",
       "      <td>하세</td>\n",
       "      <td></td>\n",
       "      <td></td>\n",
       "    </tr>\n",
       "    <tr>\n",
       "      <td>5</td>\n",
       "      <td>5</td>\n",
       "      <td>빈</td>\n",
       "      <td></td>\n",
       "      <td></td>\n",
       "      <td></td>\n",
       "      <td></td>\n",
       "    </tr>\n",
       "  </tbody>\n",
       "</table>\n",
       "</div>"
      ],
      "text/plain": [
       "   팀명 이름    질문1     질문2    질문3    질문4\n",
       "0   1  이      a     asf    waf   qawf\n",
       "1   2  도   awfa    agfe  awfwa  eafga\n",
       "2   2  경  awfaw  awfgaw   aefa  awfaw\n",
       "3   3  이                             \n",
       "4   4  태     안녕      하세              \n",
       "5   5  빈                             "
      ]
     },
     "execution_count": 83,
     "metadata": {},
     "output_type": "execute_result"
    }
   ],
   "source": [
    "selected_idx = unpickled_df.loc[unpickled_df['이름'] == '태'].index\n",
    "new_df = pd.DataFrame({'질문1': '안녕', '질문2':'하세'}, index=selected_idx)\n",
    "unpickled_df.update(new_df)\n",
    "unpickled_df"
   ]
  },
  {
   "cell_type": "code",
   "execution_count": null,
   "metadata": {},
   "outputs": [],
   "source": []
  },
  {
   "cell_type": "code",
   "execution_count": 93,
   "metadata": {},
   "outputs": [],
   "source": [
    "# dataframe pickle 테스트"
   ]
  },
  {
   "cell_type": "code",
   "execution_count": 91,
   "metadata": {},
   "outputs": [
    {
     "data": {
      "text/html": [
       "<div>\n",
       "<style scoped>\n",
       "    .dataframe tbody tr th:only-of-type {\n",
       "        vertical-align: middle;\n",
       "    }\n",
       "\n",
       "    .dataframe tbody tr th {\n",
       "        vertical-align: top;\n",
       "    }\n",
       "\n",
       "    .dataframe thead th {\n",
       "        text-align: right;\n",
       "    }\n",
       "</style>\n",
       "<table border=\"1\" class=\"dataframe\">\n",
       "  <thead>\n",
       "    <tr style=\"text-align: right;\">\n",
       "      <th></th>\n",
       "      <th>팀명</th>\n",
       "      <th>이름</th>\n",
       "      <th>질문1</th>\n",
       "      <th>질문2</th>\n",
       "      <th>질문3</th>\n",
       "      <th>질문4</th>\n",
       "    </tr>\n",
       "  </thead>\n",
       "  <tbody>\n",
       "    <tr>\n",
       "      <td>0</td>\n",
       "      <td>1</td>\n",
       "      <td>이</td>\n",
       "      <td>a</td>\n",
       "      <td>asf</td>\n",
       "      <td>waf</td>\n",
       "      <td>qawf</td>\n",
       "    </tr>\n",
       "    <tr>\n",
       "      <td>1</td>\n",
       "      <td>2</td>\n",
       "      <td>도</td>\n",
       "      <td>안녕ㅇ하세요</td>\n",
       "      <td>도경이</td>\n",
       "      <td>질문</td>\n",
       "      <td>입니다</td>\n",
       "    </tr>\n",
       "    <tr>\n",
       "      <td>2</td>\n",
       "      <td>2</td>\n",
       "      <td>경</td>\n",
       "      <td>awfaw</td>\n",
       "      <td>awfgaw</td>\n",
       "      <td>aefa</td>\n",
       "      <td>awfaw</td>\n",
       "    </tr>\n",
       "    <tr>\n",
       "      <td>3</td>\n",
       "      <td>3</td>\n",
       "      <td>이</td>\n",
       "      <td></td>\n",
       "      <td></td>\n",
       "      <td></td>\n",
       "      <td></td>\n",
       "    </tr>\n",
       "    <tr>\n",
       "      <td>4</td>\n",
       "      <td>4</td>\n",
       "      <td>태</td>\n",
       "      <td>안녕ㅇ하세요</td>\n",
       "      <td>도경이</td>\n",
       "      <td>질문</td>\n",
       "      <td>d</td>\n",
       "    </tr>\n",
       "    <tr>\n",
       "      <td>5</td>\n",
       "      <td>5</td>\n",
       "      <td>빈</td>\n",
       "      <td></td>\n",
       "      <td></td>\n",
       "      <td></td>\n",
       "      <td></td>\n",
       "    </tr>\n",
       "  </tbody>\n",
       "</table>\n",
       "</div>"
      ],
      "text/plain": [
       "   팀명 이름     질문1     질문2   질문3    질문4\n",
       "0   1  이       a     asf   waf   qawf\n",
       "1   2  도  안녕ㅇ하세요     도경이    질문    입니다\n",
       "2   2  경   awfaw  awfgaw  aefa  awfaw\n",
       "3   3  이                             \n",
       "4   4  태  안녕ㅇ하세요     도경이    질문      d\n",
       "5   5  빈                             "
      ]
     },
     "execution_count": 91,
     "metadata": {},
     "output_type": "execute_result"
    }
   ],
   "source": [
    "test = pd.read_pickle(\"./q_data.pickle\")\n",
    "test"
   ]
  },
  {
   "cell_type": "code",
   "execution_count": 103,
   "metadata": {},
   "outputs": [
    {
     "data": {
      "text/plain": [
       "{'팀명': 4, '이름': '태', '질문1': '안녕ㅇ하세요', '질문2': '도경이', '질문3': '질문', '질문4': 'd'}"
      ]
     },
     "execution_count": 103,
     "metadata": {},
     "output_type": "execute_result"
    }
   ],
   "source": [
    "selected_row_dict = test.loc[test['이름'] == '태'].to_dict('records')[0]\n",
    "selected_row_dict"
   ]
  },
  {
   "cell_type": "code",
   "execution_count": null,
   "metadata": {},
   "outputs": [],
   "source": []
  },
  {
   "cell_type": "code",
   "execution_count": null,
   "metadata": {},
   "outputs": [],
   "source": []
  },
  {
   "cell_type": "code",
   "execution_count": 94,
   "metadata": {},
   "outputs": [],
   "source": [
    "# 문답 있는지 확인"
   ]
  },
  {
   "cell_type": "code",
   "execution_count": 139,
   "metadata": {},
   "outputs": [
    {
     "data": {
      "text/html": [
       "<div>\n",
       "<style scoped>\n",
       "    .dataframe tbody tr th:only-of-type {\n",
       "        vertical-align: middle;\n",
       "    }\n",
       "\n",
       "    .dataframe tbody tr th {\n",
       "        vertical-align: top;\n",
       "    }\n",
       "\n",
       "    .dataframe thead th {\n",
       "        text-align: right;\n",
       "    }\n",
       "</style>\n",
       "<table border=\"1\" class=\"dataframe\">\n",
       "  <thead>\n",
       "    <tr style=\"text-align: right;\">\n",
       "      <th></th>\n",
       "      <th>팀명</th>\n",
       "      <th>이름</th>\n",
       "      <th>질문1</th>\n",
       "      <th>질문2</th>\n",
       "      <th>질문3</th>\n",
       "      <th>질문4</th>\n",
       "    </tr>\n",
       "  </thead>\n",
       "  <tbody>\n",
       "    <tr>\n",
       "      <td>0</td>\n",
       "      <td>1</td>\n",
       "      <td>이</td>\n",
       "      <td>a</td>\n",
       "      <td>asf</td>\n",
       "      <td>waf</td>\n",
       "      <td>qawf</td>\n",
       "    </tr>\n",
       "    <tr>\n",
       "      <td>1</td>\n",
       "      <td>2</td>\n",
       "      <td>도</td>\n",
       "      <td>awfa</td>\n",
       "      <td>agfe</td>\n",
       "      <td>awfwa</td>\n",
       "      <td>eafga</td>\n",
       "    </tr>\n",
       "    <tr>\n",
       "      <td>2</td>\n",
       "      <td>2</td>\n",
       "      <td>경</td>\n",
       "      <td>awfaw</td>\n",
       "      <td>awfgaw</td>\n",
       "      <td>aefa</td>\n",
       "      <td>awfaw</td>\n",
       "    </tr>\n",
       "    <tr>\n",
       "      <td>3</td>\n",
       "      <td>3</td>\n",
       "      <td>이</td>\n",
       "      <td></td>\n",
       "      <td></td>\n",
       "      <td></td>\n",
       "      <td></td>\n",
       "    </tr>\n",
       "    <tr>\n",
       "      <td>4</td>\n",
       "      <td>4</td>\n",
       "      <td>태</td>\n",
       "      <td>ㅁ</td>\n",
       "      <td>ㅇ</td>\n",
       "      <td>ㄴ</td>\n",
       "      <td>ㅇ</td>\n",
       "    </tr>\n",
       "    <tr>\n",
       "      <td>5</td>\n",
       "      <td>5</td>\n",
       "      <td>빈</td>\n",
       "      <td></td>\n",
       "      <td></td>\n",
       "      <td></td>\n",
       "      <td></td>\n",
       "    </tr>\n",
       "    <tr>\n",
       "      <td>6</td>\n",
       "      <td>4</td>\n",
       "      <td>신선</td>\n",
       "      <td>신선질문임다</td>\n",
       "      <td>ㅊ아</td>\n",
       "      <td>ㅡㅏㅣ</td>\n",
       "      <td>ㅣㅏㅡ</td>\n",
       "    </tr>\n",
       "    <tr>\n",
       "      <td>7</td>\n",
       "      <td>4</td>\n",
       "      <td>하하</td>\n",
       "      <td>웃어보세용</td>\n",
       "      <td>웃어</td>\n",
       "      <td>웃</td>\n",
       "      <td>웃</td>\n",
       "    </tr>\n",
       "  </tbody>\n",
       "</table>\n",
       "</div>"
      ],
      "text/plain": [
       "   팀명  이름     질문1     질문2    질문3    질문4\n",
       "0   1   이       a     asf    waf   qawf\n",
       "1   2   도    awfa    agfe  awfwa  eafga\n",
       "2   2   경   awfaw  awfgaw   aefa  awfaw\n",
       "3   3   이                              \n",
       "4   4   태       ㅁ       ㅇ      ㄴ      ㅇ\n",
       "5   5   빈                              \n",
       "6   4  신선  신선질문임다      ㅊ아    ㅡㅏㅣ    ㅣㅏㅡ\n",
       "7   4  하하   웃어보세용      웃어      웃      웃"
      ]
     },
     "execution_count": 139,
     "metadata": {},
     "output_type": "execute_result"
    }
   ],
   "source": [
    "test = pd.read_pickle(\"./q_data.pickle\")\n",
    "test"
   ]
  },
  {
   "cell_type": "code",
   "execution_count": 109,
   "metadata": {},
   "outputs": [
    {
     "data": {
      "text/plain": [
       "{'팀명': 5, '이름': '빈', '질문1': '', '질문2': '', '질문3': '', '질문4': ''}"
      ]
     },
     "execution_count": 109,
     "metadata": {},
     "output_type": "execute_result"
    }
   ],
   "source": [
    "selected_row_dict = test.loc[test['이름'] == '빈'].to_dict('records')[0]\n",
    "selected_row_dict"
   ]
  },
  {
   "cell_type": "code",
   "execution_count": 110,
   "metadata": {},
   "outputs": [
    {
     "name": "stdout",
     "output_type": "stream",
     "text": [
      "질문1\n",
      "질문2\n",
      "질문3\n",
      "질문4\n"
     ]
    },
    {
     "data": {
      "text/plain": [
       "False"
      ]
     },
     "execution_count": 110,
     "metadata": {},
     "output_type": "execute_result"
    }
   ],
   "source": [
    "check_existed = False\n",
    "for q_num in range(1,5):\n",
    "    q_name = '질문' + str(q_num)\n",
    "    print(q_name)\n",
    "    if selected_row_dict[q_name] != \"\":\n",
    "        check_existed = True\n",
    "        break\n",
    "        \n",
    "check_existed"
   ]
  },
  {
   "cell_type": "code",
   "execution_count": 143,
   "metadata": {},
   "outputs": [
    {
     "data": {
      "text/plain": [
       "0"
      ]
     },
     "execution_count": 143,
     "metadata": {},
     "output_type": "execute_result"
    }
   ],
   "source": [
    "selected_row_dict = test.loc[test['이름'] == '똥']\n",
    "len(selected_row_dict)"
   ]
  },
  {
   "cell_type": "code",
   "execution_count": 141,
   "metadata": {},
   "outputs": [
    {
     "data": {
      "text/plain": [
       "{'팀명': 5, '이름': '빈', '질문1': '', '질문2': '', '질문3': '', '질문4': ''}"
      ]
     },
     "execution_count": 141,
     "metadata": {},
     "output_type": "execute_result"
    }
   ],
   "source": [
    "selected_row_dict = test.loc[test['이름'] == '똥'].to_dict('records')[0]\n",
    "selected_row_dict"
   ]
  },
  {
   "cell_type": "code",
   "execution_count": null,
   "metadata": {},
   "outputs": [],
   "source": []
  },
  {
   "cell_type": "code",
   "execution_count": null,
   "metadata": {},
   "outputs": [],
   "source": []
  },
  {
   "cell_type": "code",
   "execution_count": 116,
   "metadata": {},
   "outputs": [
    {
     "data": {
      "text/plain": [
       "3"
      ]
     },
     "execution_count": 116,
     "metadata": {},
     "output_type": "execute_result"
    }
   ],
   "source": [
    "a = int(7/2)\n",
    "a"
   ]
  },
  {
   "cell_type": "code",
   "execution_count": 117,
   "metadata": {},
   "outputs": [
    {
     "data": {
      "text/plain": [
       "1"
      ]
     },
     "execution_count": 117,
     "metadata": {},
     "output_type": "execute_result"
    }
   ],
   "source": [
    "b = int(7%2)\n",
    "b"
   ]
  },
  {
   "cell_type": "code",
   "execution_count": null,
   "metadata": {},
   "outputs": [],
   "source": []
  },
  {
   "cell_type": "code",
   "execution_count": null,
   "metadata": {},
   "outputs": [],
   "source": []
  },
  {
   "cell_type": "code",
   "execution_count": 128,
   "metadata": {},
   "outputs": [],
   "source": [
    "# form에 출력할 것"
   ]
  },
  {
   "cell_type": "code",
   "execution_count": 129,
   "metadata": {},
   "outputs": [
    {
     "data": {
      "text/html": [
       "<div>\n",
       "<style scoped>\n",
       "    .dataframe tbody tr th:only-of-type {\n",
       "        vertical-align: middle;\n",
       "    }\n",
       "\n",
       "    .dataframe tbody tr th {\n",
       "        vertical-align: top;\n",
       "    }\n",
       "\n",
       "    .dataframe thead th {\n",
       "        text-align: right;\n",
       "    }\n",
       "</style>\n",
       "<table border=\"1\" class=\"dataframe\">\n",
       "  <thead>\n",
       "    <tr style=\"text-align: right;\">\n",
       "      <th></th>\n",
       "      <th>팀명</th>\n",
       "      <th>이름</th>\n",
       "      <th>질문1</th>\n",
       "      <th>질문2</th>\n",
       "      <th>질문3</th>\n",
       "      <th>질문4</th>\n",
       "    </tr>\n",
       "  </thead>\n",
       "  <tbody>\n",
       "    <tr>\n",
       "      <td>0</td>\n",
       "      <td>1</td>\n",
       "      <td>이</td>\n",
       "      <td>a</td>\n",
       "      <td>asf</td>\n",
       "      <td>waf</td>\n",
       "      <td>qawf</td>\n",
       "    </tr>\n",
       "    <tr>\n",
       "      <td>1</td>\n",
       "      <td>2</td>\n",
       "      <td>도</td>\n",
       "      <td>awfa</td>\n",
       "      <td>agfe</td>\n",
       "      <td>awfwa</td>\n",
       "      <td>eafga</td>\n",
       "    </tr>\n",
       "    <tr>\n",
       "      <td>2</td>\n",
       "      <td>2</td>\n",
       "      <td>경</td>\n",
       "      <td>awfaw</td>\n",
       "      <td>awfgaw</td>\n",
       "      <td>aefa</td>\n",
       "      <td>awfaw</td>\n",
       "    </tr>\n",
       "    <tr>\n",
       "      <td>3</td>\n",
       "      <td>3</td>\n",
       "      <td>이</td>\n",
       "      <td></td>\n",
       "      <td></td>\n",
       "      <td></td>\n",
       "      <td></td>\n",
       "    </tr>\n",
       "    <tr>\n",
       "      <td>4</td>\n",
       "      <td>4</td>\n",
       "      <td>태</td>\n",
       "      <td></td>\n",
       "      <td></td>\n",
       "      <td></td>\n",
       "      <td></td>\n",
       "    </tr>\n",
       "    <tr>\n",
       "      <td>5</td>\n",
       "      <td>5</td>\n",
       "      <td>빈</td>\n",
       "      <td></td>\n",
       "      <td></td>\n",
       "      <td></td>\n",
       "      <td></td>\n",
       "    </tr>\n",
       "    <tr>\n",
       "      <td>6</td>\n",
       "      <td>4</td>\n",
       "      <td>신선</td>\n",
       "      <td>안녕ㅇ하세요</td>\n",
       "      <td>신</td>\n",
       "      <td>선</td>\n",
       "      <td>질문답입니다</td>\n",
       "    </tr>\n",
       "  </tbody>\n",
       "</table>\n",
       "</div>"
      ],
      "text/plain": [
       "   팀명  이름     질문1     질문2    질문3     질문4\n",
       "0   1   이       a     asf    waf    qawf\n",
       "1   2   도    awfa    agfe  awfwa   eafga\n",
       "2   2   경   awfaw  awfgaw   aefa   awfaw\n",
       "3   3   이                               \n",
       "4   4   태                               \n",
       "5   5   빈                               \n",
       "6   4  신선  안녕ㅇ하세요       신      선  질문답입니다"
      ]
     },
     "execution_count": 129,
     "metadata": {},
     "output_type": "execute_result"
    }
   ],
   "source": [
    "test = pd.read_pickle(\"./q_data.pickle\")\n",
    "test"
   ]
  },
  {
   "cell_type": "code",
   "execution_count": 131,
   "metadata": {},
   "outputs": [
    {
     "data": {
      "text/plain": [
       "[{'팀명': 4, '이름': '태', '질문1': '', '질문2': '', '질문3': '', '질문4': ''},\n",
       " {'팀명': 4,\n",
       "  '이름': '신선',\n",
       "  '질문1': '안녕ㅇ하세요',\n",
       "  '질문2': '신',\n",
       "  '질문3': '선',\n",
       "  '질문4': '질문답입니다'}]"
      ]
     },
     "execution_count": 131,
     "metadata": {},
     "output_type": "execute_result"
    }
   ],
   "source": [
    "selected_rows_dict = test.loc[test['팀명'] == 4].to_dict('records')\n",
    "selected_rows_dict"
   ]
  },
  {
   "cell_type": "code",
   "execution_count": 132,
   "metadata": {},
   "outputs": [
    {
     "data": {
      "text/plain": [
       "[{'팀명': 4,\n",
       "  '이름': '신선',\n",
       "  '질문1': '안녕ㅇ하세요',\n",
       "  '질문2': '신',\n",
       "  '질문3': '선',\n",
       "  '질문4': '질문답입니다'}]"
      ]
     },
     "execution_count": 132,
     "metadata": {},
     "output_type": "execute_result"
    }
   ],
   "source": [
    "completed_rows = []\n",
    "\n",
    "for e in selected_rows_dict:\n",
    "    \n",
    "    for q_num in range(1,5):\n",
    "        \n",
    "        q_name = '질문' + str(q_num)\n",
    "        \n",
    "        if e[q_name] != \"\":\n",
    "            # completed면 추가\n",
    "            completed_rows.append(e)\n",
    "            break\n",
    "            \n",
    "completed_rows"
   ]
  },
  {
   "cell_type": "code",
   "execution_count": null,
   "metadata": {},
   "outputs": [],
   "source": [
    "numi = 3 / numj = 1 / 2\n",
    "\n",
    "[i*2+d]->0 [i*2+d]->1\n",
    "[i*2+d]->2 [i*2+d]->3\n",
    "[i*2+d]->4 [i*2+d]->5\n",
    "[numi*2]"
   ]
  }
 ],
 "metadata": {
  "kernelspec": {
   "display_name": "Python 3",
   "language": "python",
   "name": "python3"
  },
  "language_info": {
   "codemirror_mode": {
    "name": "ipython",
    "version": 3
   },
   "file_extension": ".py",
   "mimetype": "text/x-python",
   "name": "python",
   "nbconvert_exporter": "python",
   "pygments_lexer": "ipython3",
   "version": "3.7.4"
  }
 },
 "nbformat": 4,
 "nbformat_minor": 2
}
